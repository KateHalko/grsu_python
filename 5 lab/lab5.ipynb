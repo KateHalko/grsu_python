{
 "cells": [
  {
   "cell_type": "markdown",
   "metadata": {},
   "source": [
    "# Лабораторная работа 5. Основы анализа данных NumPy и Matplotlib. "
   ]
  },
  {
   "cell_type": "markdown",
   "metadata": {},
   "source": [
    "# Часть 1. NumPy"
   ]
  },
  {
   "cell_type": "markdown",
   "metadata": {},
   "source": [
    "При решении научных задач с помощью численных методов зачастую приходится иметь дело с большими массивами данных в виде массивов и матриц. Стандартные средства Python (например, использование списков для хранения данных и прямой перебор элементов с помощью циклов) плохо подходят для таких задач, так как будут работать крайне медленно, в отличие от программ на компилируемых языках (Fortran, С). Пакет NumPy (http://www.numpy.org/) — это основной пакет, используемый в научных вычислениях в Python. NumPy предназначен для эффективной работы с многомерными массивами, в том числе для эффективного применения математических операций к массивам и матрицам и их модификации без прямого перечисления элементов массивов. Помимо этого NumPy обладает и другими возможностями — линейная алгебра, удобный ввод/вывод в файлы, моделирование случайных величин, быстрое преобразование Фурье, объединение программ на Fortran и С и другое (подробнее см. оф. сайт), поэтому важно изучить возможности данной библиотеки как можно лучше. "
   ]
  },
  {
   "cell_type": "markdown",
   "metadata": {},
   "source": [
    "1.\tВнимательно изучите следующий урок по NumPy: http://scipy.github.io/old-wiki/pages/Tentative_NumPy_Tutorial.\n",
    "2.\tИзучите официальное руководство пользователя https://docs.scipy.org/doc/numpy/user/.\n",
    "3.\tВнимательно изучите Reference Guide (полное описание всех функций) https://docs.scipy.org/doc/numpy/reference/, именно в нем перечислены все возможности NumPy, этой ссылкой придется регулярно пользоваться.\n"
   ]
  },
  {
   "cell_type": "markdown",
   "metadata": {},
   "source": [
    "Выполните следующие задания (их много, но каждое занимает одну или несколько строк) средствами NumPy (и без использования циклов!)"
   ]
  },
  {
   "cell_type": "markdown",
   "metadata": {},
   "source": [
    "Импортируйте пакет numpy под именем nр"
   ]
  },
  {
   "cell_type": "code",
   "execution_count": 48,
   "metadata": {},
   "outputs": [],
   "source": [
    "import numpy as np\n",
    "from numpy  import *"
   ]
  },
  {
   "cell_type": "markdown",
   "metadata": {},
   "source": [
    "Создайте вектор из 10 элементов, заполненный 0, пятый элемент которого равен 1."
   ]
  },
  {
   "cell_type": "code",
   "execution_count": 49,
   "metadata": {},
   "outputs": [
    {
     "data": {
      "text/plain": [
       "array([[0., 0., 0., 0., 1., 0., 0., 0., 0., 0.]])"
      ]
     },
     "execution_count": 49,
     "metadata": {},
     "output_type": "execute_result"
    }
   ],
   "source": [
    "n1=zeros((1,10))\n",
    "n1[0][4]=1\n",
    "n1"
   ]
  },
  {
   "cell_type": "markdown",
   "metadata": {},
   "source": [
    "Создайте матрицу 3 на 3 со значениями от 0 до 8."
   ]
  },
  {
   "cell_type": "code",
   "execution_count": 50,
   "metadata": {},
   "outputs": [
    {
     "data": {
      "text/plain": [
       "array([[0, 1, 2],\n",
       "       [3, 4, 5],\n",
       "       [6, 7, 8]])"
      ]
     },
     "execution_count": 50,
     "metadata": {},
     "output_type": "execute_result"
    }
   ],
   "source": [
    "a = arange(9).reshape(3, 3)\n",
    "a"
   ]
  },
  {
   "cell_type": "markdown",
   "metadata": {},
   "source": [
    "Найдите индексы ненулевых элементов вектора [1,2,0,0,4,0]."
   ]
  },
  {
   "cell_type": "code",
   "execution_count": 51,
   "metadata": {},
   "outputs": [
    {
     "name": "stdout",
     "output_type": "stream",
     "text": [
      "0\n",
      "1\n",
      "4\n"
     ]
    }
   ],
   "source": [
    "a2 = array( [1,2,0,0,4,0] )\n",
    "counter = 0\n",
    "for i in a2 :\n",
    "    if(i!=0): print(counter)\n",
    "    counter+=1\n"
   ]
  },
  {
   "cell_type": "markdown",
   "metadata": {},
   "source": [
    "Объявите единичную матрицу размером 3 на 3."
   ]
  },
  {
   "cell_type": "code",
   "execution_count": 52,
   "metadata": {},
   "outputs": [
    {
     "data": {
      "text/plain": [
       "array([[1., 1., 1.],\n",
       "       [1., 1., 1.],\n",
       "       [1., 1., 1.]])"
      ]
     },
     "execution_count": 52,
     "metadata": {},
     "output_type": "execute_result"
    }
   ],
   "source": [
    "a3=ones((3,3))\n",
    "a3"
   ]
  },
  {
   "cell_type": "markdown",
   "metadata": {},
   "source": [
    "Создайте массив 10x10x10 из случайных чисел."
   ]
  },
  {
   "cell_type": "code",
   "execution_count": 53,
   "metadata": {},
   "outputs": [
    {
     "data": {
      "text/plain": [
       "array([[[0.77943467, 0.91069687, 0.96813572, 0.34745951, 0.12082148,\n",
       "         0.36662909, 0.08723034, 0.86618369, 0.01778594, 0.50282904],\n",
       "        [0.97493799, 0.82212555, 0.63001202, 0.35296749, 0.59380957,\n",
       "         0.14086271, 0.34905378, 0.32054596, 0.93645859, 0.18662009],\n",
       "        [0.1557449 , 0.45157523, 0.51718136, 0.61078108, 0.50628617,\n",
       "         0.93307464, 0.98488822, 0.64049774, 0.96553487, 0.33954343],\n",
       "        [0.60242986, 0.48149878, 0.05828858, 0.14407817, 0.52723346,\n",
       "         0.29566983, 0.40129062, 0.4822284 , 0.98397333, 0.70913815],\n",
       "        [0.70261981, 0.37570274, 0.5304165 , 0.00912766, 0.24472518,\n",
       "         0.1494692 , 0.17844812, 0.55242577, 0.65027292, 0.51173887],\n",
       "        [0.68004148, 0.23029555, 0.46064733, 0.17146406, 0.04378262,\n",
       "         0.42047452, 0.33590902, 0.04997308, 0.6327213 , 0.83847014],\n",
       "        [0.94053556, 0.08648043, 0.20024599, 0.87496185, 0.48851606,\n",
       "         0.00560279, 0.79745331, 0.56804145, 0.71381348, 0.80658503],\n",
       "        [0.71828734, 0.40624069, 0.82239889, 0.46100998, 0.16685762,\n",
       "         0.54835422, 0.5404    , 0.49335391, 0.14366198, 0.50652191],\n",
       "        [0.10403959, 0.75388546, 0.98386374, 0.33271171, 0.34210585,\n",
       "         0.32331432, 0.31123806, 0.78032491, 0.60871977, 0.55216625],\n",
       "        [0.93883983, 0.39077468, 0.65796304, 0.89690365, 0.64803048,\n",
       "         0.40444383, 0.84226838, 0.97517712, 0.54682007, 0.74262632]],\n",
       "\n",
       "       [[0.03030957, 0.44994022, 0.96958072, 0.81246215, 0.12798604,\n",
       "         0.3056954 , 0.76189834, 0.62667434, 0.93871382, 0.5978965 ],\n",
       "        [0.71338005, 0.07797017, 0.33801624, 0.76021284, 0.77683353,\n",
       "         0.4466533 , 0.76391285, 0.80468322, 0.40351017, 0.18581016],\n",
       "        [0.90763269, 0.23027312, 0.73416497, 0.45980178, 0.18888992,\n",
       "         0.36008632, 0.92231707, 0.48810866, 0.80420712, 0.61958247],\n",
       "        [0.31770448, 0.92667168, 0.50178098, 0.19946092, 0.26723132,\n",
       "         0.28886896, 0.73751144, 0.99235501, 0.32045904, 0.88325661],\n",
       "        [0.10984429, 0.49736972, 0.61809101, 0.20669925, 0.35079284,\n",
       "         0.11275419, 0.68449994, 0.35261613, 0.48386753, 0.14035049],\n",
       "        [0.14433495, 0.09497119, 0.84391379, 0.35971723, 0.00805128,\n",
       "         0.70906401, 0.95009967, 0.54580182, 0.34551128, 0.72902038],\n",
       "        [0.77785899, 0.63799977, 0.49122999, 0.27015265, 0.82592243,\n",
       "         0.58853377, 0.30351309, 0.79448368, 0.9294032 , 0.36287148],\n",
       "        [0.90119009, 0.43625851, 0.72860494, 0.43955162, 0.60262271,\n",
       "         0.47356442, 0.91456571, 0.30894563, 0.97874336, 0.84537031],\n",
       "        [0.87878032, 0.98788664, 0.73867644, 0.80714744, 0.96610602,\n",
       "         0.39714159, 0.00811658, 0.79161034, 0.00263196, 0.67220747],\n",
       "        [0.04185748, 0.49900502, 0.30513186, 0.3945847 , 0.03520848,\n",
       "         0.89003016, 0.69375045, 0.16241932, 0.55639049, 0.59304579]],\n",
       "\n",
       "       [[0.31343329, 0.76317333, 0.65029172, 0.34849189, 0.21586625,\n",
       "         0.02317198, 0.10674443, 0.51064536, 0.06355856, 0.41220536],\n",
       "        [0.87330655, 0.05726002, 0.68107211, 0.12615559, 0.41621499,\n",
       "         0.09646825, 0.04649836, 0.3703994 , 0.63946804, 0.68828391],\n",
       "        [0.71144245, 0.00733668, 0.63358508, 0.14607643, 0.96589583,\n",
       "         0.06654978, 0.72065854, 0.40308709, 0.28115961, 0.58305488],\n",
       "        [0.52240597, 0.04101325, 0.38293741, 0.03799013, 0.26133678,\n",
       "         0.44143643, 0.96239646, 0.56661299, 0.87283607, 0.4007675 ],\n",
       "        [0.82932413, 0.59871362, 0.33223783, 0.01996512, 0.87297737,\n",
       "         0.51440032, 0.24505827, 0.02865637, 0.02507248, 0.04198929],\n",
       "        [0.52276268, 0.95067862, 0.23675398, 0.26256114, 0.40546946,\n",
       "         0.77379988, 0.47219601, 0.66098817, 0.94262192, 0.81263813],\n",
       "        [0.08932694, 0.66540467, 0.28297371, 0.30353977, 0.95635645,\n",
       "         0.10993304, 0.46971598, 0.56271869, 0.4217326 , 0.98624938],\n",
       "        [0.96702111, 0.14949303, 0.04147572, 0.58476308, 0.81740866,\n",
       "         0.66991968, 0.92705642, 0.23697055, 0.35053254, 0.86505724],\n",
       "        [0.67667438, 0.90316382, 0.32084804, 0.06206483, 0.42861298,\n",
       "         0.9739706 , 0.33128095, 0.95779543, 0.72735027, 0.74811388],\n",
       "        [0.53898197, 0.15139644, 0.18864441, 0.08297413, 0.30962237,\n",
       "         0.46087718, 0.51825385, 0.64116442, 0.06548108, 0.00633602]],\n",
       "\n",
       "       [[0.01275222, 0.20502135, 0.1107908 , 0.2110784 , 0.61387915,\n",
       "         0.96168743, 0.02947593, 0.89238587, 0.38430573, 0.29722915],\n",
       "        [0.88384598, 0.37302167, 0.68384602, 0.27892568, 0.69761177,\n",
       "         0.79926784, 0.44822323, 0.10597867, 0.8126057 , 0.03459683],\n",
       "        [0.24414865, 0.36509799, 0.29219828, 0.20638796, 0.39795068,\n",
       "         0.53554631, 0.52173939, 0.58070444, 0.87669588, 0.16660472],\n",
       "        [0.24307006, 0.9066821 , 0.44735679, 0.43782655, 0.99213977,\n",
       "         0.74807481, 0.0915336 , 0.36170814, 0.29109976, 0.42377197],\n",
       "        [0.71970268, 0.50231598, 0.53303792, 0.85097735, 0.58735603,\n",
       "         0.55749265, 0.01913381, 0.65393605, 0.25003255, 0.22120635],\n",
       "        [0.64283872, 0.23849854, 0.47624505, 0.65807404, 0.8892273 ,\n",
       "         0.09540612, 0.73890902, 0.73363308, 0.19511889, 0.60446504],\n",
       "        [0.715635  , 0.81727586, 0.01319572, 0.14867889, 0.03507386,\n",
       "         0.57368943, 0.91147924, 0.0416934 , 0.91493965, 0.58117042],\n",
       "        [0.60087862, 0.31027492, 0.81141827, 0.18553871, 0.42263583,\n",
       "         0.40236768, 0.18027566, 0.43063043, 0.47745155, 0.64456668],\n",
       "        [0.51414254, 0.59077816, 0.87938479, 0.28278461, 0.83879521,\n",
       "         0.78234605, 0.68750798, 0.55518282, 0.51884059, 0.49946408],\n",
       "        [0.77992321, 0.61837241, 0.22772445, 0.9166639 , 0.23797535,\n",
       "         0.84683857, 0.45329879, 0.21656908, 0.87600429, 0.71433287]],\n",
       "\n",
       "       [[0.6033436 , 0.3639451 , 0.13284562, 0.44807165, 0.16142992,\n",
       "         0.25139879, 0.51476721, 0.19449428, 0.10375184, 0.73002222],\n",
       "        [0.28411008, 0.69046654, 0.89313503, 0.10482535, 0.84513749,\n",
       "         0.06286018, 0.68672971, 0.86118259, 0.80616804, 0.36808911],\n",
       "        [0.58458601, 0.69653413, 0.91404219, 0.0927656 , 0.91290621,\n",
       "         0.43335463, 0.81406426, 0.70027672, 0.83252495, 0.25168823],\n",
       "        [0.37212242, 0.0964351 , 0.07106058, 0.31682677, 0.15262748,\n",
       "         0.82601016, 0.84966304, 0.07206369, 0.01945373, 0.83771144],\n",
       "        [0.7397728 , 0.85418174, 0.89825985, 0.81071805, 0.75459959,\n",
       "         0.25786376, 0.8150857 , 0.05442303, 0.70624449, 0.46402487],\n",
       "        [0.48848803, 0.55049381, 0.45308273, 0.05672294, 0.76389398,\n",
       "         0.74553434, 0.93733948, 0.83741518, 0.11738032, 0.60137782],\n",
       "        [0.82586325, 0.5499452 , 0.04512067, 0.7083032 , 0.95676025,\n",
       "         0.19909086, 0.55512511, 0.66962959, 0.8249158 , 0.98546962],\n",
       "        [0.48331425, 0.47747981, 0.7535904 , 0.94092406, 0.2455122 ,\n",
       "         0.04401973, 0.83393606, 0.80680202, 0.84695624, 0.12853206],\n",
       "        [0.07287969, 0.09416912, 0.86355496, 0.14549278, 0.23922309,\n",
       "         0.68921902, 0.06719114, 0.96378598, 0.28730146, 0.68694342],\n",
       "        [0.08921319, 0.77224828, 0.09146818, 0.72028409, 0.78374025,\n",
       "         0.66586917, 0.47950774, 0.17826697, 0.2673951 , 0.82922762]],\n",
       "\n",
       "       [[0.51486169, 0.60064891, 0.3979982 , 0.55824043, 0.83316639,\n",
       "         0.94299885, 0.3457862 , 0.43784738, 0.07788808, 0.65293005],\n",
       "        [0.86775761, 0.17652373, 0.42563106, 0.71404473, 0.31732529,\n",
       "         0.23458099, 0.12741856, 0.88688794, 0.2049846 , 0.88580993],\n",
       "        [0.96187493, 0.17778628, 0.07926622, 0.11789435, 0.84210348,\n",
       "         0.95770363, 0.35209709, 0.67323162, 0.5244773 , 0.94415746],\n",
       "        [0.0990187 , 0.89141337, 0.93719837, 0.67623149, 0.85028355,\n",
       "         0.35866956, 0.01392633, 0.79855551, 0.03708564, 0.55873078],\n",
       "        [0.17070816, 0.17810123, 0.86853286, 0.33028631, 0.28058679,\n",
       "         0.99433867, 0.20571757, 0.92727351, 0.16880565, 0.26230356],\n",
       "        [0.56109967, 0.03067324, 0.1304516 , 0.95326341, 0.21709578,\n",
       "         0.95965122, 0.21399636, 0.70341692, 0.75434535, 0.13460528],\n",
       "        [0.1479037 , 0.94194462, 0.33845836, 0.93290008, 0.69381347,\n",
       "         0.63591484, 0.15636987, 0.82409373, 0.3908108 , 0.13226393],\n",
       "        [0.78474449, 0.63643474, 0.03506559, 0.38874394, 0.48843083,\n",
       "         0.14701668, 0.34542005, 0.72700428, 0.12354871, 0.77256721],\n",
       "        [0.67034614, 0.76817616, 0.38658447, 0.07641854, 0.96454558,\n",
       "         0.82809671, 0.53139765, 0.66531842, 0.68958592, 0.59298035],\n",
       "        [0.16429006, 0.68418753, 0.26249298, 0.21546514, 0.99178773,\n",
       "         0.21715151, 0.25879031, 0.92764192, 0.17772711, 0.56330501]],\n",
       "\n",
       "       [[0.23738009, 0.69302136, 0.93515517, 0.14129913, 0.28053893,\n",
       "         0.58147617, 0.31719853, 0.78270821, 0.9550506 , 0.93610238],\n",
       "        [0.40081075, 0.37013985, 0.6917699 , 0.45524025, 0.65862009,\n",
       "         0.44267359, 0.92538653, 0.22319093, 0.82934295, 0.22615278],\n",
       "        [0.8998599 , 0.4516649 , 0.54359789, 0.06469282, 0.9682996 ,\n",
       "         0.81378098, 0.66505197, 0.78042846, 0.91869583, 0.60247404],\n",
       "        [0.57892968, 0.44346354, 0.25915355, 0.33238771, 0.91482431,\n",
       "         0.36464999, 0.57463775, 0.31369082, 0.61539498, 0.02068162],\n",
       "        [0.93628294, 0.63508618, 0.07868356, 0.95022053, 0.18459776,\n",
       "         0.96423709, 0.15486624, 0.7178046 , 0.57329059, 0.92697546],\n",
       "        [0.93396276, 0.1147654 , 0.43189276, 0.94256144, 0.04932059,\n",
       "         0.34006311, 0.69814455, 0.07937772, 0.52958037, 0.50498748],\n",
       "        [0.34344923, 0.84340409, 0.88478685, 0.15752064, 0.55940466,\n",
       "         0.88118766, 0.03109644, 0.19246508, 0.89994945, 0.96117334],\n",
       "        [0.00231918, 0.81105672, 0.04782673, 0.82649224, 0.77011365,\n",
       "         0.09218864, 0.04158932, 0.90037785, 0.96553409, 0.08626764],\n",
       "        [0.43332589, 0.15736371, 0.22979918, 0.64585579, 0.32592507,\n",
       "         0.07338998, 0.4183505 , 0.69859052, 0.81766766, 0.63710877],\n",
       "        [0.3865239 , 0.76591749, 0.36330904, 0.7949541 , 0.17614732,\n",
       "         0.0762122 , 0.41390506, 0.44267641, 0.75052296, 0.34005784]],\n",
       "\n",
       "       [[0.79062183, 0.88269047, 0.58340219, 0.01050086, 0.10753371,\n",
       "         0.18332525, 0.79383749, 0.16784599, 0.96697475, 0.88527155],\n",
       "        [0.40833775, 0.22700096, 0.97287773, 0.2510995 , 0.3571956 ,\n",
       "         0.18543243, 0.69269249, 0.15531147, 0.79679363, 0.44303293],\n",
       "        [0.78044652, 0.22085377, 0.20735831, 0.97902548, 0.48756249,\n",
       "         0.44678608, 0.64123783, 0.69951268, 0.77532064, 0.87947752],\n",
       "        [0.66089985, 0.63615202, 0.66873492, 0.05160779, 0.83730859,\n",
       "         0.62324253, 0.48038214, 0.74810406, 0.58187448, 0.9709651 ],\n",
       "        [0.85590386, 0.40704249, 0.32192947, 0.9749568 , 0.46897833,\n",
       "         0.58944317, 0.56331383, 0.98760857, 0.50827685, 0.12264137],\n",
       "        [0.01634085, 0.45926765, 0.6047851 , 0.34174753, 0.96708932,\n",
       "         0.50011977, 0.91303491, 0.59034984, 0.98119995, 0.57877477],\n",
       "        [0.5042184 , 0.6883438 , 0.8555089 , 0.5529085 , 0.27108341,\n",
       "         0.06704238, 0.83323614, 0.39699432, 0.7071869 , 0.87358434],\n",
       "        [0.21536071, 0.37849424, 0.15098662, 0.02080892, 0.10614977,\n",
       "         0.05904239, 0.00746601, 0.90788303, 0.29248025, 0.1593806 ],\n",
       "        [0.18207281, 0.47668221, 0.23803094, 0.04324371, 0.19555234,\n",
       "         0.41796856, 0.86041498, 0.65828093, 0.36374244, 0.92066601],\n",
       "        [0.26180175, 0.86609785, 0.83945934, 0.19553816, 0.74740121,\n",
       "         0.01054479, 0.28603444, 0.64734414, 0.63612018, 0.23438253]],\n",
       "\n",
       "       [[0.95069266, 0.27685869, 0.87609272, 0.12906046, 0.31176408,\n",
       "         0.34346778, 0.44927989, 0.88073574, 0.40171131, 0.62328301],\n",
       "        [0.0449798 , 0.4410824 , 0.60101086, 0.68184253, 0.39985344,\n",
       "         0.67513163, 0.36283626, 0.17548673, 0.6194442 , 0.63774409],\n",
       "        [0.66415469, 0.6701081 , 0.91710858, 0.95368903, 0.88496304,\n",
       "         0.06434961, 0.32225094, 0.07490853, 0.90045927, 0.49335599],\n",
       "        [0.22850916, 0.0319241 , 0.60677066, 0.39539284, 0.95704594,\n",
       "         0.99936822, 0.75837727, 0.40951971, 0.15078658, 0.82124876],\n",
       "        [0.16091222, 0.16562148, 0.77404622, 0.60544945, 0.22808698,\n",
       "         0.00566588, 0.67028465, 0.80840812, 0.83810424, 0.57033026],\n",
       "        [0.19620214, 0.08563003, 0.5829152 , 0.43619045, 0.3394695 ,\n",
       "         0.89866519, 0.19943441, 0.0273393 , 0.71883027, 0.91334106],\n",
       "        [0.75045066, 0.73417278, 0.67698968, 0.19166532, 0.90582126,\n",
       "         0.29308477, 0.00995251, 0.83840908, 0.2486078 , 0.34354862],\n",
       "        [0.62329401, 0.26700275, 0.20407358, 0.00901732, 0.56524874,\n",
       "         0.51546201, 0.90378626, 0.04640946, 0.9797226 , 0.26061169],\n",
       "        [0.22135439, 0.56944843, 0.71400197, 0.10408714, 0.57918261,\n",
       "         0.14644723, 0.89654107, 0.7640536 , 0.56501734, 0.42435502],\n",
       "        [0.1359496 , 0.85419883, 0.61413418, 0.85283634, 0.87838896,\n",
       "         0.5810975 , 0.31049381, 0.80537242, 0.22154994, 0.8688287 ]],\n",
       "\n",
       "       [[0.59795631, 0.95951619, 0.10450189, 0.4846303 , 0.68553254,\n",
       "         0.02944953, 0.84438015, 0.07932066, 0.29880349, 0.94699133],\n",
       "        [0.77848859, 0.9346866 , 0.94170794, 0.30903166, 0.73772252,\n",
       "         0.56953246, 0.92589456, 0.05833732, 0.04140901, 0.6838247 ],\n",
       "        [0.7179354 , 0.31138988, 0.07282856, 0.79426556, 0.37048947,\n",
       "         0.26079324, 0.76783199, 0.55240983, 0.75247206, 0.09124148],\n",
       "        [0.77199228, 0.30172566, 0.80437636, 0.46082959, 0.61951543,\n",
       "         0.44917111, 0.04914012, 0.27148713, 0.58402084, 0.57488579],\n",
       "        [0.64121821, 0.43492608, 0.39657277, 0.81739275, 0.09136528,\n",
       "         0.24800483, 0.797883  , 0.49619261, 0.33619147, 0.27816091],\n",
       "        [0.48798118, 0.42890535, 0.27035857, 0.55443701, 0.2544852 ,\n",
       "         0.77513554, 0.33739478, 0.01102424, 0.5284978 , 0.75802253],\n",
       "        [0.20367816, 0.08493505, 0.36317428, 0.76261461, 0.98159189,\n",
       "         0.21884634, 0.04968141, 0.16694827, 0.02892337, 0.93297822],\n",
       "        [0.72824649, 0.82811917, 0.45398152, 0.99541867, 0.97967752,\n",
       "         0.14323168, 0.33126076, 0.15648582, 0.48304658, 0.47868148],\n",
       "        [0.74315611, 0.23614951, 0.24068703, 0.13176959, 0.78414283,\n",
       "         0.99290483, 0.70252602, 0.95932483, 0.53393303, 0.75746203],\n",
       "        [0.63507819, 0.54410265, 0.45901294, 0.57141038, 0.44698154,\n",
       "         0.44006073, 0.29968729, 0.48586788, 0.26747223, 0.03008569]]])"
      ]
     },
     "execution_count": 53,
     "metadata": {},
     "output_type": "execute_result"
    }
   ],
   "source": [
    "a4=random.random((10,10,10))\n",
    "a4"
   ]
  },
  {
   "cell_type": "markdown",
   "metadata": {},
   "source": [
    "Создайте матрицу 8 на 8, заполненную 0 и 1 в шахматном порядке."
   ]
  },
  {
   "cell_type": "code",
   "execution_count": 54,
   "metadata": {},
   "outputs": [
    {
     "data": {
      "text/plain": [
       "array([[1., 0., 1., 0., 1., 0., 1., 0.],\n",
       "       [0., 1., 0., 1., 0., 1., 0., 1.],\n",
       "       [1., 0., 1., 0., 1., 0., 1., 0.],\n",
       "       [0., 1., 0., 1., 0., 1., 0., 1.],\n",
       "       [1., 0., 1., 0., 1., 0., 1., 0.],\n",
       "       [0., 1., 0., 1., 0., 1., 0., 1.],\n",
       "       [1., 0., 1., 0., 1., 0., 1., 0.],\n",
       "       [0., 1., 0., 1., 0., 1., 0., 1.]])"
      ]
     },
     "execution_count": 54,
     "metadata": {},
     "output_type": "execute_result"
    }
   ],
   "source": [
    "a5 = zeros(64).reshape(8, 8)\n",
    "counter1 = 0\n",
    "counter2 = 0\n",
    "for i in range(0, 8):\n",
    "    for j in range(0, 8):\n",
    "        if(counter1 % 2 ==0):\n",
    "            if(counter2 % 2 ==0):\n",
    "                a5[i][j] = 1\n",
    "        else:\n",
    "            if(counter2 % 2 !=0):\n",
    "                a5[i][j] = 1\n",
    "        counter2 +=1\n",
    "    counter1 += 1\n",
    "    counter2=0\n",
    "a5"
   ]
  },
  {
   "cell_type": "markdown",
   "metadata": {},
   "source": [
    "Найдите произведение матриц 5x3 на 3x2 (см. линейную алгебру) ."
   ]
  },
  {
   "cell_type": "code",
   "execution_count": 40,
   "metadata": {},
   "outputs": [
    {
     "name": "stdout",
     "output_type": "stream",
     "text": [
      "[35, 89, 143, 197]\n",
      "[17, 44, 71, 98]\n"
     ]
    }
   ],
   "source": [
    "m1 = [ [5, 6, 7],[2, 3, 4]]\n",
    " \n",
    "m2 = [[2, 5, 8, 11],[3, 6, 9, 12],[1, 4, 7, 10]]\n",
    "\n",
    "m3 = [ [ sum(map(lambda x: x[0] * x[1], zip(m1[i], [c[j] for c in m2]))) for j in range(len(m2[0])) ] for i in range(len(m1)) ]\n",
    " \n",
    "for res in m3:\n",
    "    print(res) \n"
   ]
  },
  {
   "cell_type": "markdown",
   "metadata": {},
   "source": [
    "Создайте матрицу, в каждом ряду которой стоят числа от 0 до 8 (используйте сложение матрицы с вектором)."
   ]
  },
  {
   "cell_type": "code",
   "execution_count": 56,
   "metadata": {},
   "outputs": [
    {
     "data": {
      "text/plain": [
       "array([[0., 1., 2., 3., 4., 5., 6., 7., 8.],\n",
       "       [0., 1., 2., 3., 4., 5., 6., 7., 8.],\n",
       "       [0., 1., 2., 3., 4., 5., 6., 7., 8.]])"
      ]
     },
     "execution_count": 56,
     "metadata": {},
     "output_type": "execute_result"
    }
   ],
   "source": [
    "a7=np.zeros((3,9))\n",
    "v1=np.array([0,1,2,3,4,5,6,7,8])\n",
    "anew=a7+v1\n",
    "anew"
   ]
  },
  {
   "cell_type": "markdown",
   "metadata": {},
   "source": [
    "Создайте вектор длины 1000. Найдите среднее (арифметическое) значение из этих элементов."
   ]
  },
  {
   "cell_type": "code",
   "execution_count": 57,
   "metadata": {},
   "outputs": [
    {
     "name": "stdout",
     "output_type": "stream",
     "text": [
      "0.5078050690601144\n"
     ]
    }
   ],
   "source": [
    "a8=np.random.random((1,1000))\n",
    "sum=0\n",
    "for i in range(0,len(a8[0])-1):\n",
    "    sum+=a8[0][i]\n",
    "print(sum/1000)\n"
   ]
  },
  {
   "cell_type": "markdown",
   "metadata": {},
   "source": [
    "## Часть 2. Matplotlib"
   ]
  },
  {
   "cell_type": "markdown",
   "metadata": {},
   "source": [
    "Matplotlib (http://matplotlib.org/index.html) — это библиотека для создания графиков в Python. Matplotlib позволяет строить графики любой сложности типографского качества, которые можно вставить в статью. Подробнее о возможностях см. http://matplotlib.org/users/ intro.html. Matplotlib — большой и сложный инструмент, но на прак¬тике в научных вычислениях часто пользуются частью библиотеки matplotlib .pyplot, которая имитирует построение графиков в стиле MATLAB. В качестве достаточно полного введения можно прочитать http://matplotlib.org/users/index.html."
   ]
  },
  {
   "cell_type": "markdown",
   "metadata": {},
   "source": [
    "На практике бывает очень трудно помнить все возможности Matplotlib, поэтому часто используют галереи готовых примеров, а потом модифи-цируют их под свои нужды. Примеры таких подборок можно найти по следующим ссылкам:\n",
    "\n",
    "•\thttp://matplotlib.org/gallery.html\n",
    "•\thttp://matplotlib.org/examples/index.html\n",
    "•\thttp://wiki.scipy.org/Cookbook/Matplotlib/\n"
   ]
  },
  {
   "cell_type": "markdown",
   "metadata": {},
   "source": [
    "Еще материалы. \n",
    "1.\tВведение http://matplotlib.org/users/pyplot_tutorial.html\n",
    "2.\tВведение 2 http://www.loria.fr/~rougier/teaching/matplotlib/.\n",
    "Изучите, как создавать графики разных типов http://www.loria.fr/~rougier/teaching/matplotlib/#other-types-of-plots.\n",
    "3.\tИспользование текста в подписях и т.д. http://matplotlib.org/users/text_intro.html.\n",
    "4.\tИспользование математического текста http://matplotlib.org/users/mathtext.html.\n",
    "5.\tСоздание легенды http://matplotlib.org/users/legend_guide.html.\n",
    "6.\tИнтерактивное использование Matplotlib http://matplotlib.org/users/shell.html (этот пример можно использовать не только в командной строке, но и в коде для наблюдения за изменением графиков в ходе выполнения программы).\n"
   ]
  },
  {
   "cell_type": "code",
   "execution_count": 58,
   "metadata": {},
   "outputs": [],
   "source": [
    "import matplotlib as mp\n",
    "import matplotlib.pyplot as plt"
   ]
  },
  {
   "cell_type": "markdown",
   "metadata": {},
   "source": [
    "Постройте поточечный график функции. Сгенерируйте два массива для этого. Один со значениями по возрастанию (для X), второй со случайными значениями (для Y).\n",
    "\n"
   ]
  },
  {
   "cell_type": "code",
   "execution_count": 59,
   "metadata": {},
   "outputs": [
    {
     "data": {
      "image/png": "[encoded data removed]",
      "text/plain": [
       "<Figure size 432x288 with 1 Axes>"
      ]
     },
     "metadata": {
      "needs_background": "light"
     },
     "output_type": "display_data"
    }
   ],
   "source": [
    "X=([10,20,30,40,50])\n",
    "Y=([3,6,8,4,5])\n",
    "plt.plot(X,Y, \"ro\")\n",
    "plt.show()"
   ]
  },
  {
   "cell_type": "markdown",
   "metadata": {},
   "source": [
    "Выберите тригонометрическую функцию $T(x)$, выберите полином $P(x)$. Постройте график функции $T(x)P(x)$."
   ]
  },
  {
   "cell_type": "markdown",
   "metadata": {},
   "source": [
    "К графику добавьте: обозначение оси абсцисс, обозначение оси ординат, название графика, вставка легенды (текста в label)."
   ]
  },
  {
   "cell_type": "code",
   "execution_count": 60,
   "metadata": {},
   "outputs": [
    {
     "data": {
      "image/png": "[encoded data removed]",
      "text/plain": [
       "<Figure size 432x288 with 1 Axes>"
      ]
     },
     "metadata": {
      "needs_background": "light"
     },
     "output_type": "display_data"
    }
   ],
   "source": [
    "X = np.linspace(-np.pi, np.pi, 256, endpoint=True)\n",
    "Tx=np.cos(X)\n",
    "def Px(X):\n",
    "    return X**2+3*X\n",
    "f=Tx*Px(X)\n",
    "plt.plot(X,f, \"r\")\n",
    "plt.title('график ')\n",
    "plt.xlabel('X')\n",
    "plt.ylabel('Y')\n",
    "plt.legend(\"f\")\n",
    "plt.show()"
   ]
  },
  {
   "cell_type": "markdown",
   "metadata": {},
   "source": [
    "Измените цвет графика на Ваш любимый. "
   ]
  },
  {
   "cell_type": "code",
   "execution_count": 61,
   "metadata": {},
   "outputs": [
    {
     "data": {
      "image/png": "[encoded data removed]",
      "text/plain": [
       "<Figure size 432x288 with 1 Axes>"
      ]
     },
     "metadata": {
      "needs_background": "light"
     },
     "output_type": "display_data"
    }
   ],
   "source": [
    "plt.plot(X,f, \"g\")\n",
    "plt.title('график ')\n",
    "plt.xlabel('X')\n",
    "plt.ylabel('Y')\n",
    "plt.legend(\"f\")\n",
    "plt.show()"
   ]
  },
  {
   "cell_type": "markdown",
   "metadata": {},
   "source": [
    "Постройте несколько квивых. Первая - цвет красный, сплошная, вторая - цвет синий, штрих-пунктир."
   ]
  },
  {
   "cell_type": "code",
   "execution_count": 62,
   "metadata": {},
   "outputs": [
    {
     "data": {
      "image/png": "[encoded data removed]",
      "text/plain": [
       "<Figure size 432x288 with 1 Axes>"
      ]
     },
     "metadata": {
      "needs_background": "light"
     },
     "output_type": "display_data"
    },
    {
     "data": {
      "image/png": "[encoded data removed]",
      "text/plain": [
       "<Figure size 432x288 with 1 Axes>"
      ]
     },
     "metadata": {
      "needs_background": "light"
     },
     "output_type": "display_data"
    }
   ],
   "source": [
    "def f1(X):\n",
    "    return np.exp(X) * np.cos(X)\n",
    "def f2(X):\n",
    "    return np.cos(X)\n",
    "plt.title('f1 ')\n",
    "plt.plot(X,f1(X), \"r\")\n",
    "plt.show()\n",
    "plt.title('f2 ')\n",
    "plt.plot(X,f2(X), \"b--\")\n",
    "plt.show()"
   ]
  },
  {
   "cell_type": "markdown",
   "metadata": {},
   "source": [
    "Постройте теже графики, только для первого добавьте маркеры из красных треугольников, для второго синие круглые маркеры."
   ]
  },
  {
   "cell_type": "code",
   "execution_count": 63,
   "metadata": {},
   "outputs": [
    {
     "data": {
      "image/png": "[encoded data removed]",
      "text/plain": [
       "<Figure size 432x288 with 1 Axes>"
      ]
     },
     "metadata": {
      "needs_background": "light"
     },
     "output_type": "display_data"
    },
    {
     "data": {
      "image/png": "[encoded data removed]",
      "text/plain": [
       "<Figure size 432x288 with 1 Axes>"
      ]
     },
     "metadata": {
      "needs_background": "light"
     },
     "output_type": "display_data"
    }
   ],
   "source": [
    "X = np.linspace(-np.pi, np.pi, 30, endpoint=True)\n",
    "plt.title('f1 ')\n",
    "plt.plot(X,f1(X), \"r^\")\n",
    "plt.show()\n",
    "plt.title('f2 ')\n",
    "plt.plot(X,f2(X), \"bo\")\n",
    "plt.show()"
   ]
  },
  {
   "cell_type": "markdown",
   "metadata": {
    "collapsed": true
   },
   "source": [
    "# Часть 3. OpenCV"
   ]
  },
  {
   "cell_type": "markdown",
   "metadata": {
    "collapsed": true
   },
   "source": [
    "Прочитайте картинку используя opencv"
   ]
  },
  {
   "cell_type": "code",
   "execution_count": 3,
   "metadata": {},
   "outputs": [],
   "source": [
    "import cv2\n",
    "\n",
    "img = cv2.imread('picture.png')\n",
    "cv2.imshow('image',img) \n",
    "cv2.waitKey(0) \n",
    "cv2.destroyAllWindows() \n"
   ]
  },
  {
   "cell_type": "markdown",
   "metadata": {},
   "source": [
    "Сделайте ее черно-белой"
   ]
  },
  {
   "cell_type": "code",
   "execution_count": 17,
   "metadata": {},
   "outputs": [],
   "source": [
    "gray_image = cv2.cvtColor(img, cv2.COLOR_BGR2GRAY)\n",
    "cv2.imshow('image',gray_image) \n",
    "cv2.waitKey(0) \n",
    "cv2.destroyAllWindows() \n"
   ]
  },
  {
   "cell_type": "markdown",
   "metadata": {},
   "source": [
    "Измените размер на 300x300"
   ]
  },
  {
   "cell_type": "code",
   "execution_count": 30,
   "metadata": {},
   "outputs": [],
   "source": [
    "resize_img = cv2.resize(img  , (300 , 300))\n",
    "cv2.imshow('image' , resize_img)\n",
    "cv2.waitKey(0) \n",
    "cv2.destroyAllWindows() \n"
   ]
  },
  {
   "cell_type": "markdown",
   "metadata": {},
   "source": [
    "\n",
    "Разбейте ее на 2 картинки. Сохраните. "
   ]
  },
  {
   "cell_type": "code",
   "execution_count": 43,
   "metadata": {},
   "outputs": [
    {
     "data": {
      "text/plain": [
       "True"
      ]
     },
     "execution_count": 43,
     "metadata": {},
     "output_type": "execute_result"
    }
   ],
   "source": [
    "width, height, channels=img.shape\n",
    "slice1=img[0:int(height/2),0:int(width)]\n",
    "cv2.imshow('image' , slice1)\n",
    "cv2.waitKey(0) \n",
    "cv2.destroyAllWindows() \n",
    "slice2=img[int(height/2):height,0:int(width)]\n",
    "cv2.imshow('image' , slice2)\n",
    "cv2.waitKey(0) \n",
    "cv2.destroyAllWindows() \n",
    "cv2.imwrite(\"picture1.png\", slice1)\n",
    "cv2.imwrite(\"picture2.png\", slice2)"
   ]
  },
  {
   "cell_type": "markdown",
   "metadata": {},
   "source": [
    "Прочитайте 2 картинки и склейте. "
   ]
  },
  {
   "cell_type": "code",
   "execution_count": 53,
   "metadata": {},
   "outputs": [],
   "source": [
    "im1=cv2.imread(\"picture1.png\")\n",
    "im2=cv2.imread(\"picture2.png\")\n",
    "imgnew=np.concatenate((im1, im2), axis=0)\n",
    "cv2.imwrite('res.png', imgnew)\n",
    "cv2.imshow('image' , imgnew)\n",
    "cv2.waitKey(0) \n",
    "cv2.destroyAllWindows() "
   ]
  }
 ],
 "metadata": {
  "kernelspec": {
   "display_name": "Python 3",
   "language": "python",
   "name": "python3"
  },
  "language_info": {
   "codemirror_mode": {
    "name": "ipython",
    "version": 3
   },
   "file_extension": ".py",
   "mimetype": "text/x-python",
   "name": "python",
   "nbconvert_exporter": "python",
   "pygments_lexer": "ipython3",
   "version": "3.7.1"
  }
 },
 "nbformat": 4,
 "nbformat_minor": 1
}
