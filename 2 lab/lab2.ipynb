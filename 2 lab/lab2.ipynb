{
 "cells": [
  {
   "cell_type": "markdown",
   "metadata": {},
   "source": [
    "# Лабораторная работа 2. Объектно-ориентированное программирование. Часть 1."
   ]
  },
  {
   "cell_type": "markdown",
   "metadata": {},
   "source": [
    "Распространённым примером для демонстрации деталей реализации пользовательского класса является разработка класса, воплощающего Fraction. Мы уже видели, что Python предоставляет в наше пользование несколько числовых классов. Однако, бывают моменты, когда более подходящим является создание объекта данных лишь “выглядящего как” дробь.\n",
    "\n",
    "Дробь (например, $\\frac{3}{5}$) состоит из двух частей. Верхнее значение, называемое числитель, может быть любым целым числом. Нижнее значение (знаменатель) - любым целым, большим нуля (отрицательные дроби имеют отрицательный числитель). Также для любой дроби можно создать приближение с плавающей запятой. В этом случае мы хотели бы представлять дробь как точное значение.\n",
    "\n",
    "Операции для типа Fraction будут позволять его объектам данных вести себя подобно любым другим числовым значениям. Мы должны быть готовы складывать, вычитать, умножать и делить дроби. Также необходима возможность показывать дроби в их стандартной “слэш”-форме (например, $\\frac{3}{5}$). Все методы дробей должны возвращать результат в своей сокращённой форме таким образом, чтобы, вне зависимости от вида вычислений, в конце мы всегда имели наиболее общепринятую форму.\n",
    "\n",
    "Запишите класс Fraction. Принимайте через конструктор числитель и знаменатель. "
   ]
  },
  {
   "cell_type": "code",
   "execution_count": 24,
   "metadata": {},
   "outputs": [],
   "source": [
    "class Fraction:\n",
    "    \n",
    "    def __init__(self,x,y):\n",
    "        self.numerator = x\n",
    "        self.denominator = y"
   ]
  },
  {
   "cell_type": "markdown",
   "metadata": {},
   "source": [
    "Создай сущность класса Fraction. "
   ]
  },
  {
   "cell_type": "code",
   "execution_count": 25,
   "metadata": {},
   "outputs": [],
   "source": [
    "f=Fraction(3,5)"
   ]
  },
  {
   "cell_type": "markdown",
   "metadata": {},
   "source": [
    "Вызовите print от сущности. "
   ]
  },
  {
   "cell_type": "code",
   "execution_count": 26,
   "metadata": {},
   "outputs": [
    {
     "name": "stdout",
     "output_type": "stream",
     "text": [
      "<__main__.Fraction object at 0x000002EB1CA3B550>\n"
     ]
    }
   ],
   "source": [
    "f=Fraction(3,5)\n",
    "print(f)"
   ]
  },
  {
   "cell_type": "markdown",
   "metadata": {},
   "source": [
    " Функция print требует, чтобы объект конвертировал самого себя в строку, которая будет записана на выходе."
   ]
  },
  {
   "cell_type": "code",
   "execution_count": 27,
   "metadata": {},
   "outputs": [
    {
     "name": "stdout",
     "output_type": "stream",
     "text": [
      "3 / 5\n"
     ]
    }
   ],
   "source": [
    "class Fraction:\n",
    "    \n",
    "    def __init__(self,x,y):\n",
    "        self.numerator = x\n",
    "        self.denominator = y\n",
    "    def __str__(self):\n",
    "        return str(self.numerator)+\" / \"+str(self.denominator)\n",
    "f=Fraction(3,5)\n",
    "print(f)"
   ]
  },
  {
   "cell_type": "markdown",
   "metadata": {},
   "source": [
    "Определите метод под названием show, который позволит объекту Fraction печать самого себя как строку. Продемострируйете. "
   ]
  },
  {
   "cell_type": "code",
   "execution_count": 28,
   "metadata": {},
   "outputs": [
    {
     "name": "stdout",
     "output_type": "stream",
     "text": [
      "3 / 5\n"
     ]
    }
   ],
   "source": [
    "class Fraction:\n",
    "    \n",
    "    def __init__(self,x,y):\n",
    "        self.numerator = x\n",
    "        self.denominator = y\n",
    "    def show(self):\n",
    "        print(self.numerator,\"/\",self.denominator)\n",
    "        \n",
    "f=Fraction(3,5)\n",
    "f.show()"
   ]
  },
  {
   "cell_type": "markdown",
   "metadata": {},
   "source": [
    "Мы можем перегрузить множество других методов для нового класса Fraction. Одними из наиболее важных из них являются основные арифметические операции. Создайте два объекта Fraction, а затем сложить их вместе, используя стандартную запись “+”"
   ]
  },
  {
   "cell_type": "code",
   "execution_count": 29,
   "metadata": {},
   "outputs": [
    {
     "ename": "TypeError",
     "evalue": "unsupported operand type(s) for +: 'Fraction' and 'Fraction'",
     "output_type": "error",
     "traceback": [
      "\u001b[1;31m---------------------------------------------------------------------------\u001b[0m",
      "\u001b[1;31mTypeError\u001b[0m                                 Traceback (most recent call last)",
      "\u001b[1;32m<ipython-input-29-758e4673a6b6>\u001b[0m in \u001b[0;36m<module>\u001b[1;34m\u001b[0m\n\u001b[0;32m      7\u001b[0m \u001b[0mf1\u001b[0m\u001b[1;33m=\u001b[0m\u001b[0mFraction\u001b[0m\u001b[1;33m(\u001b[0m\u001b[1;36m3\u001b[0m\u001b[1;33m,\u001b[0m\u001b[1;36m5\u001b[0m\u001b[1;33m)\u001b[0m\u001b[1;33m\u001b[0m\u001b[1;33m\u001b[0m\u001b[0m\n\u001b[0;32m      8\u001b[0m \u001b[0mf2\u001b[0m\u001b[1;33m=\u001b[0m\u001b[0mFraction\u001b[0m\u001b[1;33m(\u001b[0m\u001b[1;36m1\u001b[0m\u001b[1;33m,\u001b[0m\u001b[1;36m5\u001b[0m\u001b[1;33m)\u001b[0m\u001b[1;33m\u001b[0m\u001b[1;33m\u001b[0m\u001b[0m\n\u001b[1;32m----> 9\u001b[1;33m \u001b[0mf1\u001b[0m\u001b[1;33m+\u001b[0m\u001b[0mf2\u001b[0m\u001b[1;33m\u001b[0m\u001b[1;33m\u001b[0m\u001b[0m\n\u001b[0m",
      "\u001b[1;31mTypeError\u001b[0m: unsupported operand type(s) for +: 'Fraction' and 'Fraction'"
     ]
    }
   ],
   "source": [
    "class Fraction:\n",
    "    \n",
    "    def __init__(self,x,y):\n",
    "\n",
    "        self.numerator = x\n",
    "        self.denominator = y\n",
    "f1=Fraction(3,5)\n",
    "f2=Fraction(1,5)\n",
    "f1+f2"
   ]
  },
  {
   "cell_type": "markdown",
   "metadata": {},
   "source": [
    "Если вы внимательнее посмотрите на сообщение об ошибке, то заметите - загвоздка в том, что оператор “+” не понимает операндов Fraction. Перегрузите сложение."
   ]
  },
  {
   "cell_type": "code",
   "execution_count": 34,
   "metadata": {},
   "outputs": [
    {
     "name": "stdout",
     "output_type": "stream",
     "text": [
      "6/8\n"
     ]
    }
   ],
   "source": [
    "class Fraction:\n",
    "    \n",
    "    def __init__(self,x,y):\n",
    "\n",
    "        self.numerator = x\n",
    "        self.denominator = y  \n",
    "    def __str__(self):\n",
    "        return str(self.numerator)+\"/\"+str(self.denominator)\n",
    "    def add(self,f2):\n",
    "\n",
    "        newnumerator = self.numerator*f2.denominator + self.denominator*f2.numerator\n",
    "        newdenominator = self.denominator * f2.denominator\n",
    "        return Fraction(newnumerator,newdenominator)\n",
    "    \n",
    "f1=Fraction(1,4)\n",
    "f2=Fraction(1,2)\n",
    "print(f1.add(f2))\n"
   ]
  },
  {
   "cell_type": "markdown",
   "metadata": {},
   "source": [
    "Метод сложения работает, как мы того и хотели, но одну вещь можно было бы улучшить. Дробь не сокращается. Реализуйте метод для сокращения дроби. "
   ]
  },
  {
   "cell_type": "code",
   "execution_count": 33,
   "metadata": {},
   "outputs": [
    {
     "name": "stdout",
     "output_type": "stream",
     "text": [
      "3/4\n"
     ]
    }
   ],
   "source": [
    "def nok(m,n):\n",
    "        while m%n != 0:\n",
    "            m1 = m\n",
    "            n1 = n\n",
    "            m = n1\n",
    "            n = m1%n1\n",
    "        return n\n",
    "class Fraction:\n",
    "    \n",
    "    def __init__(self,x,y):\n",
    "\n",
    "        self.numerator = x\n",
    "        self.denominator = y\n",
    "    def __str__(self):\n",
    "        return str(self.numerator)+\"/\"+str(self.denominator)\n",
    "    def show(self):\n",
    "        print(self.numerator,\"/\",self.denominator)\n",
    "    \n",
    "    def add(self,f2):\n",
    "        newnumerator = self.numerator*f2.denominator + self.denominator*f2.numerator\n",
    "        newdenominator = self.denominator * f2.denominator\n",
    "        c=nok(newnumerator,newdenominator)\n",
    "        return Fraction(newnumerator//c,newdenominator//c)\n",
    "    \n",
    "f1=Fraction(1,4)\n",
    "f2=Fraction(1,2)\n",
    "print(f1.add(f2))\n"
   ]
  },
  {
   "cell_type": "markdown",
   "metadata": {},
   "source": [
    "Предположим, что у нас есть два объекта Fraction f1 и f2. f1 == f2 будет истиной, если они ссылаются на один и тот же объект. Два разных объекта с одинаковыми числителями и знаменателями в этой реализации равны не будут. Это называется поверхностным равенством. Создайте глубокое равенство - по одинаковому значению, а не по одинаковой ссылке - перегрузив метод __eq__. Это ещё один стандартный метод, доступный в любом классе. Он сравнивает два объекта и возвращает True, если их значения равны, или False в противном случае."
   ]
  },
  {
   "cell_type": "code",
   "execution_count": 36,
   "metadata": {},
   "outputs": [
    {
     "name": "stdout",
     "output_type": "stream",
     "text": [
      "True\n"
     ]
    }
   ],
   "source": [
    "class Fraction:\n",
    "    \n",
    "    def __init__(self,x,y):\n",
    "\n",
    "        self.numerator = x\n",
    "        self.denominator = y\n",
    "\n",
    "    def eq(self, f2):\n",
    "        firstnumerator = self.numerator * f2.denominator\n",
    "        secondnumerator = f2.numerator * self.denominator\n",
    "        return firstnumerator == secondnumerator\n",
    "f1=Fraction(1,2)\n",
    "f2=Fraction(1,2)\n",
    "print(f1.eq(f2))"
   ]
  },
  {
   "cell_type": "markdown",
   "metadata": {},
   "source": [
    "Напишите реализацию операций *, / и -. Продемонстрируйте. "
   ]
  },
  {
   "cell_type": "code",
   "execution_count": 32,
   "metadata": {},
   "outputs": [
    {
     "name": "stdout",
     "output_type": "stream",
     "text": [
      "3/10\n",
      "5/6\n",
      "-1/10\n"
     ]
    }
   ],
   "source": [
    "def nok(m,n):\n",
    "        while m%n != 0:\n",
    "            m1 = m\n",
    "            n1 = n\n",
    "            m = n1\n",
    "            n = m1%n1\n",
    "        return n\n",
    "class Fraction:\n",
    "    \n",
    "    def __init__(self,x,y):\n",
    "\n",
    "        self.numerator = x\n",
    "        self.denominator = y\n",
    "    def __str__(self):\n",
    "        return str(self.numerator)+\"/\"+str(self.denominator)\n",
    "    \n",
    "    def mult(self,f2):\n",
    "        \n",
    "        newnumerator = self.numerator*f2.numerator\n",
    "        newdenominator = self.denominator * f2.denominator\n",
    "        c=nok(newnumerator,newdenominator)\n",
    "        return Fraction(newnumerator//c,newdenominator//c)\n",
    "    \n",
    "    def div(self,f2):\n",
    "        \n",
    "        newnumerator = self.numerator*f2.denominator\n",
    "        newdenominator = self.denominator * f2.numerator\n",
    "        c=nok(newnumerator,newdenominator)\n",
    "        return Fraction(newnumerator//c,newdenominator//c)\n",
    "    \n",
    "    def differ(self,f2):\n",
    "        \n",
    "        newnumerator = self.numerator*f2.denominator - self.denominator*f2.numerator\n",
    "        newdenominator = self.denominator * f2.denominator\n",
    "        c=nok(newnumerator,newdenominator)\n",
    "        return Fraction(newnumerator//c,newdenominator//c)\n",
    "    \n",
    "f1=Fraction(1,2)\n",
    "f2=Fraction(3,5)\n",
    "print(f1.mult(f2))\n",
    "print(f1.div(f2))\n",
    "print(f1.differ(f2))"
   ]
  },
  {
   "cell_type": "markdown",
   "metadata": {},
   "source": [
    "Также реализуйте операторы сравнения > и <."
   ]
  },
  {
   "cell_type": "code",
   "execution_count": 31,
   "metadata": {},
   "outputs": [
    {
     "name": "stdout",
     "output_type": "stream",
     "text": [
      "False\n",
      "True\n"
     ]
    }
   ],
   "source": [
    "class Fraction:\n",
    "    \n",
    "    def __init__(self,x,y):\n",
    "        self.numerator = x\n",
    "        self.denominator = y\n",
    "\n",
    "    def more(self, f2):\n",
    "            firstnumerator = self.numerator * f2.denominator\n",
    "            secondnumerator = f2.numerator * self.denominator\n",
    "            return firstnumerator > secondnumerator\n",
    "        \n",
    "    def less(self, f2):\n",
    "            firstnumerator = self.numerator * f2.denominator\n",
    "            secondnumerator = f2.numerator * self.denominator\n",
    "            return firstnumerator < secondnumerator\n",
    "        \n",
    "f1=Fraction(1,2)\n",
    "f2=Fraction(3,5)\n",
    "print(f1.more(f2))\n",
    "print(f1.less(f2))"
   ]
  },
  {
   "cell_type": "markdown",
   "metadata": {},
   "source": [
    "# Часть 2. Наследование: логические вентили и схемы"
   ]
  },
  {
   "cell_type": "markdown",
   "metadata": {},
   "source": [
    "И списки, и кортежи, и строки представляют из себя коллекции с последовательным доступом, наследуя общую организацию данных и операции. Однако, они различны по гомогенности данных и мутабельности наборов. Все потомки наследуют своим родителям, но различаются между собой включением дополнительных характеристик.\n",
    "\n",
    "Организовывая классы в иерархическом порядке, объектно-ориентированные языки программирования позволяют расширять ранее написанный код под вновь возникающие потребности. В дополнение, организовывая данные в иерархической манере, мы лучше понимаем существующие между ними взаимоотношения. Мы можем создавать более эффективное абстрактное представление.\n",
    "\n",
    "Чтобы глубже исследовать эту идею, мы напишем симуляцию - приложение, симулирующее цифровые цепи. Её основными строительными блоками будут логические элементы. Эти электронные переключатели представляют собой соотношения булевой алгебры между их входом и выходом. В общем случае вентили имеют единственную линию выхода. Значение на ней зависит от значений, подаваемых на входные линии.\n",
    "\n",
    "Вентиль “И” (AND) имеет два входа, на каждый из которых может подаваться нуль или единица (кодирование False или True, соответственно). Если на оба входа подана единица, то значение на выходе тоже 1. Однако, если хотя бы один из входов установлен в нуль, то результатом будет 0. Вентиль “ИЛИ” также имеет два входа и выдаёт единицу, если хотя бы на одном из них 1. В случае, когда обе входные линии в нуле, результат тоже 0.\n",
    "\n",
    "Вентиль “НЕ” (NOT) отличается от предыдущих тем, что имеет всего один вход. Значение на выходе будет просто обратным входному значению. Т.е., если на входе 0, то на выходе 1, и наоборот. \n",
    "<img src=\"im1.png\" height=\"240\" width=\"860\">"
   ]
  },
  {
   "cell_type": "markdown",
   "metadata": {},
   "source": [
    "Комбинируя эти вентили в различные структуры и применяя к полученному наборы входных комбинаций, мы можем строить цепи, обладающие различными логическими функциями. Рисунок 10 демонстрирует цепь, состоящую из двух вентилей “И”, одного вентиля “ИЛИ” и одного вентиля “НЕ”. Выходы элементов “И” подключены непосредственно к входам элемента “ИЛИ”, а его результирующий вывод - ко входу вентиля “НЕ”. Если мы будем подавать набор входных значений на четыре входные линии (по две на каждый элемент “И”), то они будут обработаны, и результат появится на выходе вентиля “НЕ”. Рисунок демонстрирует пример со значениями.\n",
    "<img src=\"im2.png\" height=\"240\" width=\"860\">"
   ]
  },
  {
   "cell_type": "markdown",
   "metadata": {},
   "source": [
    "Задавшись целью воплотить эту цепь, мы прежде всего должны создать представление для логических вентилей. Их легко организовать, как класс с наследственной иерархией, показанной на Рисунке. Верхний класс LogicGate представляет наиболее общие характеристики логических элементов: в частности, метку вентиля и линию выхода. Следующий уровень субклассов разбивает логические элементы на два семейства: имеющие один вход и имеющие два входа. Ниже уже появляются конкретные логические функции для каждого вентиля.\n",
    "<img src=\"im3.png\" height=\"240\" width=\"860\">"
   ]
  },
  {
   "cell_type": "markdown",
   "metadata": {},
   "source": [
    "Теперь мы можем заняться реализацией классов, начиная с наиболее общего - LogicGate. Как уже отмечалось ранее, каждый вентиль имеет метку для идентификации и единственную линию выхода. В дополнение, нам потребуются методы, позволяющие пользователю запрашивать у вентиля его метку.\n",
    "\n",
    "Следующим аспектом поведения, в котором нуждается любой вентиль, является необходимость знать его выходное значение. Это требуется для выполнения вентилями соответствующих алгоритмов, основанных на текущих значениях на входах. Для генерации выходного значения логическим элементам необходимо конкретное знание логики их работы. Это подразумевает вызов метода, совершающего логические вычисления."
   ]
  },
  {
   "cell_type": "code",
   "execution_count": null,
   "metadata": {},
   "outputs": [],
   "source": [
    "class LogicGate:\n",
    "\n",
    "    def __init__(self,n):\n",
    "        self.label = n\n",
    "        self.output = None\n",
    "\n",
    "    def getLabel(self):\n",
    "        return self.label\n",
    "\n",
    "    def getOutput(self):\n",
    "        self.output = self.performGateLogic()\n",
    "        return self.output"
   ]
  },
  {
   "cell_type": "markdown",
   "metadata": {},
   "source": [
    "На данный момент мы не будем реализовывать функцию performGateLogic. Причина в том, что мы не знаем, как будут работать логические операции у каждого вентиля. Эти детали мы включим для каждого добавленного в иерархию элемента индивидуально. Это очень мощная идея объектно-ориентированного программирования: мы пишем метод, который будет использовать ещё не существующий код. Параметр self является ссылкой на актуальный вентиль, вызывающий метод. Любые вновь добавленные в иерархию логические элементы просто будут нуждаться в собственной реализации функции performGateLogic, которая станет использоваться в нужный момент. После этого вентили должны предоставить своё выходное значение. Эта возможность расширять существующую иерархию и обеспечивать необходимые для её нового класса функции чрезвычайно важна для повторного использования существующего кода.\n",
    "\n",
    "Мы разделили логические элементы, основываясь на количестве их входных линий. У вентиля “И” их две, как и у вентиля “ИЛИ”, а у вентиля “НЕ” - одна. Класс BinaryGate будет субклассом LogicGate и включит в себя элементы с двумя входными линиями. Класс UnaryGate также будет субклассом LogicGate, но входная линия у его элементов будет одна. В конструировании компьютерных цепей такие линии иногда называют “пинами”, так что мы будем использовать эту терминологию и в нашей реализации.\n",
    "\n",
    "Создайте эти классы. Обязательно будут методы __init__, getPinA, getPinB."
   ]
  },
  {
   "cell_type": "code",
   "execution_count": null,
   "metadata": {},
   "outputs": [],
   "source": [
    "class BinaryGate(LogicGate):\n",
    "\n",
    "    def __init__(self,n):\n",
    "        \n",
    "        LogicGate.__init__(self,n)\n",
    "        self.pinA = None\n",
    "        self.pinB = None\n",
    "\n",
    "    def getPinA(self):\n",
    "        return int(input(\" Pin A for gate \"+ self.getLabel()+\"-\"))\n",
    "\n",
    "    def getPinB(self):\n",
    "        return int(input(\" Pin B for gate \"+ self.getLabel()+\"-\"))   "
   ]
  },
  {
   "cell_type": "code",
   "execution_count": null,
   "metadata": {},
   "outputs": [],
   "source": [
    "class UnaryGate(LogicGate):\n",
    "\n",
    "    def __init__(self,n):\n",
    "        LogicGate.__init__(self,n)\n",
    "\n",
    "        self.pin = None\n",
    "\n",
    "    def getPin(self):\n",
    "        return int(input(\" Pin for gate \"+ self.getLabel()+\"-\"))"
   ]
  },
  {
   "cell_type": "markdown",
   "metadata": {},
   "source": [
    " Конструкторы обоих начинаются с явного вызова конструктора родительского класса с использованием метода __init__. Когда мы создаём экземпляр класса BinaryGate, то прежде всего хотим инициализировать любые элементы данных, которые наследуются от LogicGate. В данном случае это метка вентиля. Затем конструктор добавляет два входа (pinA и pinB). Это очень распространённая схема, которую вам следует использовать при проектировании иерархии классов. Конструктору дочернего класса сначала нужно вызвать конструктор родительского класса, и только потом переключаться на собственные, отличные от предка, данные.\n",
    "\n",
    "Единственным, что добавится к поведению класса BinaryGate будет возможность получать значения от двух входных линий. Поскольку они берутся откуда-то извне, то с помощью оператора ввода мы можем просто попросить пользователя предоставить их. То же самое происходит в реализации класса UnaryGate, за исключением того момента, что он имеет всего один вход.\n",
    "\n",
    "Теперь, когда у нас есть общие классы для вентилей, зависящие от количества их входов, мы можем создавать специфические вентили с уникальным поведением. Например, класс AndGate, который будет подклассом BinaryGate, поскольку элемент “И” имеет два входа. Как и раньше, первая строка конструктора вызывает конструктор базового класса (BinaryGate), который, в свою очередь, вызывает конструктор своего родителя (LogicGate). Обратите внимание, что класс AndGate не предоставляет каких-либо новых дополнительных данных, поскольку наследует две входные линии, одну выходную и метку.\n",
    "\n",
    "Единственная вещь, которую необходимо добавить в AndGate, - это специфическое поведение при выполнении булевых операций, которое мы описывали выше. Это то место, где мы можем предоставить метод performGateLogic. Для вентиля “И” он сначала должен получить два входных значения и вернуть 1, если оба они равны единице. "
   ]
  },
  {
   "cell_type": "code",
   "execution_count": null,
   "metadata": {},
   "outputs": [],
   "source": [
    "class AndGate(BinaryGate):\n",
    "\n",
    "    def __init__(self,n):\n",
    "        BinaryGate.__init__(self,n)\n",
    "\n",
    "    def performGateLogic(self):\n",
    "\n",
    "        a = self.getPinA()\n",
    "        b = self.getPinB()\n",
    "        if a==1 and b==1:\n",
    "            return 1\n",
    "        else:\n",
    "            return 0"
   ]
  },
  {
   "cell_type": "markdown",
   "metadata": {},
   "source": [
    "Продемонстрируйте работу класса AndGate, создав его экземпляр и попросив его вычислить своё выходное значение."
   ]
  },
  {
   "cell_type": "code",
   "execution_count": null,
   "metadata": {},
   "outputs": [],
   "source": [
    "g1 = AndGate(\"G1\")\n",
    "g1.getOutput()"
   ]
  },
  {
   "cell_type": "markdown",
   "metadata": {},
   "source": [
    "Такая же работа должна быть проведена для элементов “ИЛИ” и “НЕ”. Класс OrGate также будет субклассом BinaryGate, а класс NotGate расширит UnaryGate. Оба они будут нуждаться в собственной реализации функции performGateLogic со специфическим поведением."
   ]
  },
  {
   "cell_type": "code",
   "execution_count": null,
   "metadata": {},
   "outputs": [],
   "source": [
    "g2 = OrGate(\"G2\")\n",
    "g2.getOutput()\n",
    "g2.getOutput()\n",
    "g3 = NotGate(\"G3\")\n",
    "g3.getOutput()\n"
   ]
  },
  {
   "cell_type": "markdown",
   "metadata": {},
   "source": [
    "Теперь, когда у нас есть работающие базовые вентили, мы можем вернуться к построению цепей. Чтобы создать цепь, нам необходимо соединить вентили вместе: выход одного ко входу другого. Для мы реализуем новый класс под названием Connector.\n",
    "Класс Connector не будет принадлежать иерархии логических элементов. Однако, он будет использовать её, поскольку каждый соединитель имеет два вентиля - по одному на каждый конец (см. рисунок). Отношения такого рода очень важны в объектно-ориентированном программировании. \n",
    "<img src=\"im4.png\" height=\"240\" width=\"860\">"
   ]
  },
  {
   "cell_type": "markdown",
   "metadata": {},
   "source": [
    "Для класса Connector мы скажем, что он имеет LogicGate, подразумевая, что соединители имеют внутри экземпляры LogicGate, но не являются частью иерархии. \n",
    "Два экземпляра вентилей внутри каждого объекта соединителя будут обозначаться как fromgate и togate, различая таким образом, что данные будут “течь” от выхода одного вентиля ко входу другого. Вызов setNextPin очень важен при создании соединителей. Нам необходимо добавить этот метод к нашим классам для вентилей таким образом, чтобы каждый togate мог выбрать подходящую входную линию для соединения. Реализйте этот класс. "
   ]
  },
  {
   "cell_type": "code",
   "execution_count": null,
   "metadata": {},
   "outputs": [],
   "source": [
    "class Connector:\n",
    "\n",
    "    def __init__(self, fgate, tgate):\n",
    "        self.fromgate = fgate\n",
    "        self.togate = tgate\n",
    "\n",
    "        tgate.setNextPin(self)\n",
    "\n",
    "    def fromgate(self):\n",
    "        return self.fromgate\n",
    "\n",
    "    def togate(self):\n",
    "        return self.togate"
   ]
  },
  {
   "cell_type": "markdown",
   "metadata": {},
   "source": [
    "Следующий фрагмент конструирует схему, ранее показанную в этом разделе:"
   ]
  },
  {
   "cell_type": "code",
   "execution_count": null,
   "metadata": {
    "scrolled": true
   },
   "outputs": [],
   "source": [
    "g1 = AndGate(\"G1\")\n",
    "g2 = AndGate(\"G2\")\n",
    "g3 = OrGate(\"G3\")\n",
    "g4 = NotGate(\"G4\")\n",
    "c1 = Connector(g1,g3)\n",
    "c2 = Connector(g2,g3)\n",
    "c3 = Connector(g3,g4)"
   ]
  },
  {
   "cell_type": "markdown",
   "metadata": {},
   "source": [
    "Выходы двух вентилей “И” (g1 и g2) соединены с вентилем “ИЛИ” (g3), а его выход - с вентилем “НЕ” (g4). Выход вентиля “НЕ” - это выход схемы целиком. Пример работы:\n",
    "g4.getOutput()\n",
    "Pin A input for gate G1-->0\n",
    "Pin B input for gate G1-->1\n",
    "Pin A input for gate G2-->1\n",
    "Pin B input for gate G2-->1\n",
    "0"
   ]
  },
  {
   "cell_type": "code",
   "execution_count": null,
   "metadata": {},
   "outputs": [],
   "source": [
    "g4.getOutput()"
   ]
  },
  {
   "cell_type": "markdown",
   "metadata": {},
   "source": [
    "Создайте два новых класса вентилей: NorGate и NandGate. Первый работает подобно OrGate, к выходу которого подключено НЕ. Второй - как AndGate с НЕ на выходе."
   ]
  },
  {
   "cell_type": "markdown",
   "metadata": {},
   "source": [
    "Создайте ряд из вентилей, который доказывал бы, что NOT (( A and B) or (C and D)) это то же самое, что и NOT( A and B ) and NOT (C and D). Убедитесь, что используете в этой симуляции некоторые из вновь созданных вами вентилей."
   ]
  },
  {
   "cell_type": "code",
   "execution_count": null,
   "metadata": {},
   "outputs": [],
   "source": [
    "class NorGate(AndGate):\n",
    "\n",
    "    def performGateLogic(self):\n",
    "\n",
    "        if super.performGateLogic()==1:\n",
    "            return 0\n",
    "        else\n",
    "            return 1\n",
    "class NandGate(OrGate):\n",
    "\n",
    "    def performGateLogic(self):\n",
    "\n",
    "        if super.performGateLogic()==1:\n",
    "            return 0\n",
    "        else:\n",
    "            return 1"
   ]
  },
  {
   "cell_type": "code",
   "execution_count": null,
   "metadata": {},
   "outputs": [],
   "source": [
    "##проверка всех сразу \n",
    "class LogicGate:\n",
    "\n",
    "    def __init__(self,n):\n",
    "        self.name = n\n",
    "        self.output = None\n",
    "\n",
    "    def getName(self):\n",
    "        return self.name\n",
    "\n",
    "    def getOutput(self):\n",
    "        self.output = self.performGateLogic()\n",
    "        return self.output\n",
    "\n",
    "\n",
    "class BinaryGate(LogicGate):\n",
    "\n",
    "    def __init__(self,n):\n",
    "        LogicGate.__init__(self,n)\n",
    "\n",
    "        self.pinA = None\n",
    "        self.pinB = None\n",
    "\n",
    "    def getPinA(self):\n",
    "        if self.pinA == None:\n",
    "            return int(input(\"Pin A for gate \"+self.getName()+\"-\"))\n",
    "        else:\n",
    "            return self.pinA.getFrom().getOutput()\n",
    "\n",
    "    def getPinB(self):\n",
    "        if self.pinB == None:\n",
    "            return int(input(\"Pin B for gate \"+self.getName()+\"-\"))\n",
    "        else:\n",
    "            return self.pinB.getFrom().getOutput()\n",
    "\n",
    "    def setNextPin(self,source):\n",
    "        if self.pinA == None:\n",
    "            self.pinA = source\n",
    "        else:\n",
    "            if self.pinB == None:\n",
    "                self.pinB = source\n",
    "            else:\n",
    "                print(\"Cannot Connect\")\n",
    "\n",
    "\n",
    "class AndGate(BinaryGate):\n",
    "\n",
    "    def __init__(self,n):\n",
    "        BinaryGate.__init__(self,n)\n",
    "\n",
    "    def performGateLogic(self):\n",
    "\n",
    "        a = self.getPinA()\n",
    "        b = self.getPinB()\n",
    "        if a==1 and b==1:\n",
    "            return 1\n",
    "        else:\n",
    "            return 0\n",
    "\n",
    "class OrGate(BinaryGate):\n",
    "\n",
    "    def __init__(self,n):\n",
    "        BinaryGate.__init__(self,n)\n",
    "\n",
    "    def performGateLogic(self):\n",
    "\n",
    "        a = self.getPinA()\n",
    "        b = self.getPinB()\n",
    "        if a ==1 or b==1:\n",
    "            return 1\n",
    "        else:\n",
    "            return 0\n",
    "\n",
    "class UnaryGate(LogicGate):\n",
    "\n",
    "    def __init__(self,n):\n",
    "        LogicGate.__init__(self,n)\n",
    "\n",
    "        self.pin = None\n",
    "\n",
    "    def getPin(self):\n",
    "        if self.pin == None:\n",
    "            return int(input(\"Enter Pin input for gate \"+self.getName()+\"-->\"))\n",
    "        else:\n",
    "            return self.pin.getFrom().getOutput()\n",
    "\n",
    "    def setNextPin(self,source):\n",
    "        if self.pin == None:\n",
    "            self.pin = source\n",
    "        else:\n",
    "            print(\"Cannot Connect: NO EMPTY PINS on this gate\")\n",
    "\n",
    "\n",
    "class NotGate(UnaryGate):\n",
    "\n",
    "    def __init__(self,n):\n",
    "        UnaryGate.__init__(self,n)\n",
    "\n",
    "    def performGateLogic(self):\n",
    "        if self.getPin():\n",
    "            return 0\n",
    "        else:\n",
    "            return 1\n",
    "\n",
    "\n",
    "class Connector:\n",
    "\n",
    "    def __init__(self, fgate, tgate):\n",
    "        self.fromgate = fgate\n",
    "        self.togate = tgate\n",
    "\n",
    "        tgate.setNextPin(self)\n",
    "\n",
    "    def fromgate(self):\n",
    "        return self.fromgate\n",
    "\n",
    "    def togate(self):\n",
    "        return self.togate\n",
    "\n",
    "\n",
    "g1 = AndGate(\"G1\")\n",
    "g2 = AndGate(\"G2\")\n",
    "g3 = OrGate(\"G3\")\n",
    "g4 = NotGate(\"G4\")\n",
    "c1 = Connector(g1,g3)\n",
    "c2 = Connector(g2,g3)\n",
    "c3 = Connector(g3,g4)\n",
    "print(g4.getOutput())\n"
   ]
  }
 ],
 "metadata": {
  "kernelspec": {
   "display_name": "Python 3",
   "language": "python",
   "name": "python3"
  },
  "language_info": {
   "codemirror_mode": {
    "name": "ipython",
    "version": 3
   },
   "file_extension": ".py",
   "mimetype": "text/x-python",
   "name": "python",
   "nbconvert_exporter": "python",
   "pygments_lexer": "ipython3",
   "version": "3.7.1"
  }
 },
 "nbformat": 4,
 "nbformat_minor": 1
}
